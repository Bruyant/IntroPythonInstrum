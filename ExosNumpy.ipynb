{
 "cells": [
  {
   "cell_type": "markdown",
   "id": "special-bridges",
   "metadata": {
    "slideshow": {
     "slide_type": "slide"
    }
   },
   "source": [
    "# Execrcices numpy\n",
    "- importer numpy\n",
    "- crée un taleau 3x3 de zeros, de 1 , ...\n",
    "- crée un tableau des nb de 1 à 1000\n",
    "- afficher les 10 premier et les 10 derniers\n",
    "- en afficher un sur 33"
   ]
  },
  {
   "cell_type": "code",
   "execution_count": 13,
   "id": "annoying-guarantee",
   "metadata": {},
   "outputs": [
    {
     "data": {
      "text/plain": [
       "(array([[0., 0., 0.],\n",
       "        [0., 0., 0.],\n",
       "        [0., 0., 0.]]),\n",
       " array([[1., 1., 1.],\n",
       "        [1., 1., 1.],\n",
       "        [1., 1., 1.]]),\n",
       " array([[16.,  1.,  1.],\n",
       "        [ 1., 16.,  1.],\n",
       "        [ 1.,  1., 16.]]))"
      ]
     },
     "execution_count": 13,
     "metadata": {},
     "output_type": "execute_result"
    }
   ],
   "source": [
    "import numpy as np\n",
    "t= np.zeros((3,3))\n",
    "t, t+1, (t+1+np.identity(3))**4"
   ]
  },
  {
   "cell_type": "code",
   "execution_count": 19,
   "id": "separated-spoke",
   "metadata": {},
   "outputs": [
    {
     "data": {
      "text/plain": [
       "(array([0, 1, 2, 3, 4, 5, 6, 7, 8, 9]),\n",
       " array([990, 991, 992, 993, 994, 995, 996, 997, 998, 999]),\n",
       " array([  0,  33,  66,  99, 132, 165, 198, 231, 264, 297, 330, 363, 396,\n",
       "        429, 462, 495, 528, 561, 594, 627, 660, 693, 726, 759, 792, 825,\n",
       "        858, 891, 924, 957, 990]))"
      ]
     },
     "execution_count": 19,
     "metadata": {},
     "output_type": "execute_result"
    }
   ],
   "source": [
    "n1000=np.arange(1000)\n",
    "n1000[:10],n1000[-10:],n1000[::33],"
   ]
  },
  {
   "cell_type": "markdown",
   "id": "operating-emphasis",
   "metadata": {},
   "source": [
    "# Tracé de graphique\n",
    "- importer maplotlib\n",
    "-\n"
   ]
  },
  {
   "cell_type": "code",
   "execution_count": 20,
   "id": "beginning-snowboard",
   "metadata": {},
   "outputs": [],
   "source": [
    "%matplotlib inline\n",
    "im"
   ]
  },
  {
   "cell_type": "code",
   "execution_count": 22,
   "id": "fifty-parliament",
   "metadata": {},
   "outputs": [
    {
     "ename": "NameError",
     "evalue": "name 'plot' is not defined",
     "output_type": "error",
     "traceback": [
      "\u001b[1;31m---------------------------------------------------------------------------\u001b[0m",
      "\u001b[1;31mNameError\u001b[0m                                 Traceback (most recent call last)",
      "\u001b[1;32m<ipython-input-22-689d30ffac67>\u001b[0m in \u001b[0;36m<module>\u001b[1;34m\u001b[0m\n\u001b[1;32m----> 1\u001b[1;33m \u001b[0mplot\u001b[0m\u001b[1;33m(\u001b[0m\u001b[1;36m3\u001b[0m\u001b[1;33m)\u001b[0m\u001b[1;33m\u001b[0m\u001b[1;33m\u001b[0m\u001b[0m\n\u001b[0m",
      "\u001b[1;31mNameError\u001b[0m: name 'plot' is not defined"
     ]
    }
   ],
   "source": [
    "plot(3)"
   ]
  },
  {
   "cell_type": "code",
   "execution_count": null,
   "id": "structural-desperate",
   "metadata": {},
   "outputs": [],
   "source": []
  }
 ],
 "metadata": {
  "celltoolbar": "Diaporama",
  "kernelspec": {
   "display_name": "Python 3 (ipykernel)",
   "language": "python",
   "name": "python3"
  },
  "language_info": {
   "codemirror_mode": {
    "name": "ipython",
    "version": 3
   },
   "file_extension": ".py",
   "mimetype": "text/x-python",
   "name": "python",
   "nbconvert_exporter": "python",
   "pygments_lexer": "ipython3",
   "version": "3.8.12"
  }
 },
 "nbformat": 4,
 "nbformat_minor": 5
}
