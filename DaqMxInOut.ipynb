{
 "cells": [
  {
   "cell_type": "code",
   "execution_count": 1,
   "id": "powerful-circuit",
   "metadata": {
    "editable": true,
    "slideshow": {
     "slide_type": "slide"
    },
    "tags": []
   },
   "outputs": [
    {
     "ename": "ModuleNotFoundError",
     "evalue": "No module named 'nidaqmx'",
     "output_type": "error",
     "traceback": [
      "\u001b[1;31m---------------------------------------------------------------------------\u001b[0m",
      "\u001b[1;31mModuleNotFoundError\u001b[0m                       Traceback (most recent call last)",
      "Cell \u001b[1;32mIn[1], line 2\u001b[0m\n\u001b[0;32m      1\u001b[0m \u001b[38;5;28;01mimport\u001b[39;00m \u001b[38;5;21;01mmatplotlib\u001b[39;00m\u001b[38;5;21;01m.\u001b[39;00m\u001b[38;5;21;01mpyplot\u001b[39;00m \u001b[38;5;28;01mas\u001b[39;00m \u001b[38;5;21;01mplt\u001b[39;00m\n\u001b[1;32m----> 2\u001b[0m \u001b[38;5;28;01mimport\u001b[39;00m \u001b[38;5;21;01mnidaqmx\u001b[39;00m\u001b[38;5;21;01m.\u001b[39;00m\u001b[38;5;21;01msystem\u001b[39;00m\n\u001b[0;32m      3\u001b[0m system \u001b[38;5;241m=\u001b[39m nidaqmx\u001b[38;5;241m.\u001b[39msystem\u001b[38;5;241m.\u001b[39mSystem\u001b[38;5;241m.\u001b[39mlocal()\n\u001b[0;32m      4\u001b[0m system\u001b[38;5;241m.\u001b[39mdriver_version\n",
      "\u001b[1;31mModuleNotFoundError\u001b[0m: No module named 'nidaqmx'"
     ]
    }
   ],
   "source": [
    "import matplotlib.pyplot as plt\n",
    "import nidaqmx.system\n",
    "system = nidaqmx.system.System.local()\n",
    "system.driver_version"
   ]
  },
  {
   "cell_type": "code",
   "execution_count": 2,
   "id": "251cc682",
   "metadata": {
    "editable": true,
    "slideshow": {
     "slide_type": ""
    },
    "tags": []
   },
   "outputs": [
    {
     "name": "stdout",
     "output_type": "stream",
     "text": [
      "Channels:\n",
      " - conda-forge\n",
      " - defaults\n",
      "Platform: win-64\n",
      "Collecting package metadata (repodata.json): ...working... done\n",
      "Solving environment: ...working... done\n",
      "\n",
      "## Package Plan ##\n",
      "\n",
      "  environment location: C:\\Users\\bruyant\\Miniconda3\n",
      "\n",
      "  added / updated specs:\n",
      "    - nidaqmx-python\n",
      "\n",
      "\n",
      "The following packages will be downloaded:\n",
      "\n",
      "    package                    |            build\n",
      "    ---------------------------|-----------------\n",
      "    deprecation-2.1.0          |     pyh9f0ad1d_0          14 KB  conda-forge\n",
      "    nidaqmx-python-0.8.0       |     pyhd8ed1ab_0         313 KB  conda-forge\n",
      "    ------------------------------------------------------------\n",
      "                                           Total:         327 KB\n",
      "\n",
      "The following NEW packages will be INSTALLED:\n",
      "\n",
      "  deprecation        conda-forge/noarch::deprecation-2.1.0-pyh9f0ad1d_0 \n",
      "  nidaqmx-python     conda-forge/noarch::nidaqmx-python-0.8.0-pyhd8ed1ab_0 \n",
      "\n",
      "\n",
      "\n",
      "Downloading and Extracting Packages: ...working... done\n",
      "Preparing transaction: ...working... done\n",
      "Verifying transaction: ...working... done\n",
      "Executing transaction: ...working... done\n",
      "\n",
      "Note: you may need to restart the kernel to use updated packages.\n"
     ]
    }
   ],
   "source": [
    "conda install -c conda-forge nidaqmx-python"
   ]
  },
  {
   "cell_type": "code",
   "execution_count": null,
   "id": "a606499a-49de-4b03-8138-96b5808c0516",
   "metadata": {
    "editable": true,
    "slideshow": {
     "slide_type": ""
    },
    "tags": []
   },
   "outputs": [],
   "source": [
    "python -m pip install nidaqmx"
   ]
  },
  {
   "cell_type": "code",
   "execution_count": null,
   "id": "fbfdc560",
   "metadata": {},
   "outputs": [],
   "source": []
  },
  {
   "cell_type": "code",
   "execution_count": 3,
   "id": "infinite-equality",
   "metadata": {},
   "outputs": [
    {
     "ename": "NameError",
     "evalue": "name 'system' is not defined",
     "output_type": "error",
     "traceback": [
      "\u001b[1;31m---------------------------------------------------------------------------\u001b[0m",
      "\u001b[1;31mNameError\u001b[0m                                 Traceback (most recent call last)",
      "Cell \u001b[1;32mIn[3], line 1\u001b[0m\n\u001b[1;32m----> 1\u001b[0m dev\u001b[38;5;241m=\u001b[39m\u001b[43msystem\u001b[49m\u001b[38;5;241m.\u001b[39mdevices\u001b[38;5;241m.\u001b[39mdevice_names[\u001b[38;5;241m0\u001b[39m] \u001b[38;5;66;03m# autodetect first device\u001b[39;00m\n\u001b[0;32m      2\u001b[0m dev\n",
      "\u001b[1;31mNameError\u001b[0m: name 'system' is not defined"
     ]
    }
   ],
   "source": [
    "dev=system.devices.device_names[0] # autodetect first device\n",
    "dev"
   ]
  },
  {
   "cell_type": "code",
   "execution_count": null,
   "id": "assured-burton",
   "metadata": {
    "slideshow": {
     "slide_type": "subslide"
    }
   },
   "outputs": [],
   "source": [
    "import numpy as np\n",
    "\n",
    "#generate fake sig\n",
    "Fs=1e6\n",
    "fex=20e3\n",
    "t=np.arange(-5/fex,11/fex,1/Fs)\n",
    "Ve=(t>0)*(t<10/fex)*np.sin(t*fex*2*np.pi)\n",
    "\n",
    "# ensure the the array is good to send to daqmx\n",
    "Ve=np.ascontiguousarray(Ve)\n"
   ]
  },
  {
   "cell_type": "markdown",
   "id": "royal-reaction",
   "metadata": {
    "slideshow": {
     "slide_type": "slide"
    }
   },
   "source": [
    "# AO write"
   ]
  },
  {
   "cell_type": "code",
   "execution_count": 7,
   "id": "optical-indication",
   "metadata": {},
   "outputs": [],
   "source": [
    "taskAO=nidaqmx.Task()\n",
    "# create the channel\n",
    "ao1=taskAO.ao_channels.add_ao_voltage_chan(dev+\"/ao0\",max_val=10,min_val=-10)  \n",
    "# configure sample rate\n",
    "taskAO.timing.cfg_samp_clk_timing(1e6, samps_per_chan=Ve.size  )\n",
    "# Put datasd into buffer and start task\n",
    "taskAO.write(Ve,auto_start=True)  \n",
    "taskAO.wait_until_done()\n",
    "taskAO.stop()"
   ]
  },
  {
   "cell_type": "code",
   "execution_count": 8,
   "id": "descending-public",
   "metadata": {
    "slideshow": {
     "slide_type": "subslide"
    }
   },
   "outputs": [
    {
     "name": "stdout",
     "output_type": "stream",
     "text": [
      "Help on method add_ao_voltage_chan in module nidaqmx._task_modules.ao_channel_collection:\n",
      "\n",
      "add_ao_voltage_chan(physical_channel, name_to_assign_to_channel='', min_val=-10.0, max_val=10.0, units=<VoltageUnits.VOLTS: 10348>, custom_scale_name='') method of nidaqmx._task_modules.ao_channel_collection.AOChannelCollection instance\n",
      "    Creates channel(s) to generate voltage.\n",
      "    \n",
      "    Args:\n",
      "        physical_channel (str): Specifies the names of the physical\n",
      "            channels to use to create virtual channels. The DAQmx\n",
      "            physical channel constant lists all physical channels on\n",
      "            devices and modules installed in the system.\n",
      "        name_to_assign_to_channel (Optional[str]): Specifies a name\n",
      "            to assign to the virtual channel this function creates.\n",
      "            If you do not specify a value for this input, NI-DAQmx\n",
      "            uses the physical channel name as the virtual channel\n",
      "            name.\n",
      "        min_val (Optional[float]): Specifies in **units** the\n",
      "            minimum value you expect to generate.\n",
      "        max_val (Optional[float]): Specifies in **units** the\n",
      "            maximum value you expect to generate.\n",
      "        units (Optional[nidaqmx.constants.VoltageUnits]): Specifies\n",
      "            the units to use to generate voltage.\n",
      "        custom_scale_name (Optional[str]): Specifies the name of a\n",
      "            custom scale for the channel. If you want the channel to\n",
      "            use a custom scale, specify the name of the custom scale\n",
      "            to this input and set **units** to\n",
      "            **FROM_CUSTOM_SCALE**.\n",
      "    Returns:\n",
      "        nidaqmx._task_modules.channels.ao_channel.AOChannel:\n",
      "        \n",
      "        Indicates the newly created channel object.\n",
      "\n"
     ]
    }
   ],
   "source": [
    "help(taskAO.ao_channels.add_ao_voltage_chan)\n",
    "#taskAO.close()"
   ]
  },
  {
   "cell_type": "code",
   "execution_count": 9,
   "id": "interested-cheat",
   "metadata": {
    "slideshow": {
     "slide_type": "slide"
    }
   },
   "outputs": [
    {
     "ename": "DaqError",
     "evalue": "The specified resource is reserved. The operation could not be completed as specified.\nTask Name: _unnamedTask<1>\n\nStatus Code: -50103",
     "output_type": "error",
     "traceback": [
      "\u001b[1;31m---------------------------------------------------------------------------\u001b[0m",
      "\u001b[1;31mDaqError\u001b[0m                                  Traceback (most recent call last)",
      "\u001b[1;32m~\\AppData\\Local\\Temp/ipykernel_21992/2692725178.py\u001b[0m in \u001b[0;36m<module>\u001b[1;34m\u001b[0m\n\u001b[0;32m      5\u001b[0m     \u001b[0mtaskAO\u001b[0m\u001b[1;33m.\u001b[0m\u001b[0mtiming\u001b[0m\u001b[1;33m.\u001b[0m\u001b[0mcfg_samp_clk_timing\u001b[0m\u001b[1;33m(\u001b[0m\u001b[1;36m1e6\u001b[0m\u001b[1;33m,\u001b[0m \u001b[0msamps_per_chan\u001b[0m\u001b[1;33m=\u001b[0m\u001b[0mVe\u001b[0m\u001b[1;33m.\u001b[0m\u001b[0msize\u001b[0m\u001b[1;33m)\u001b[0m\u001b[1;33m\u001b[0m\u001b[1;33m\u001b[0m\u001b[0m\n\u001b[0;32m      6\u001b[0m     \u001b[1;31m# Put datasd into buffer and start task\u001b[0m\u001b[1;33m\u001b[0m\u001b[1;33m\u001b[0m\u001b[1;33m\u001b[0m\u001b[0m\n\u001b[1;32m----> 7\u001b[1;33m     \u001b[0mtaskAO\u001b[0m\u001b[1;33m.\u001b[0m\u001b[0mwrite\u001b[0m\u001b[1;33m(\u001b[0m\u001b[0mVe\u001b[0m\u001b[1;33m,\u001b[0m\u001b[0mauto_start\u001b[0m\u001b[1;33m=\u001b[0m\u001b[1;32mTrue\u001b[0m\u001b[1;33m)\u001b[0m\u001b[1;33m\u001b[0m\u001b[1;33m\u001b[0m\u001b[0m\n\u001b[0m\u001b[0;32m      8\u001b[0m     \u001b[0mtaskAO\u001b[0m\u001b[1;33m.\u001b[0m\u001b[0mwait_until_done\u001b[0m\u001b[1;33m(\u001b[0m\u001b[1;33m)\u001b[0m\u001b[1;33m\u001b[0m\u001b[1;33m\u001b[0m\u001b[0m\n\u001b[0;32m      9\u001b[0m     \u001b[0mtaskAO\u001b[0m\u001b[1;33m.\u001b[0m\u001b[0mstop\u001b[0m\u001b[1;33m(\u001b[0m\u001b[1;33m)\u001b[0m\u001b[1;33m\u001b[0m\u001b[1;33m\u001b[0m\u001b[0m\n",
      "\u001b[1;32mC:\\ProgramData\\Anaconda3\\lib\\site-packages\\nidaqmx\\task.py\u001b[0m in \u001b[0;36mwrite\u001b[1;34m(self, data, auto_start, timeout)\u001b[0m\n\u001b[0;32m   1231\u001b[0m         \u001b[1;32mif\u001b[0m \u001b[0mwrite_chan_type\u001b[0m \u001b[1;33m==\u001b[0m \u001b[0mChannelType\u001b[0m\u001b[1;33m.\u001b[0m\u001b[0mANALOG_OUTPUT\u001b[0m\u001b[1;33m:\u001b[0m\u001b[1;33m\u001b[0m\u001b[1;33m\u001b[0m\u001b[0m\n\u001b[0;32m   1232\u001b[0m             \u001b[0mdata\u001b[0m \u001b[1;33m=\u001b[0m \u001b[0mnumpy\u001b[0m\u001b[1;33m.\u001b[0m\u001b[0masarray\u001b[0m\u001b[1;33m(\u001b[0m\u001b[0mdata\u001b[0m\u001b[1;33m,\u001b[0m \u001b[0mdtype\u001b[0m\u001b[1;33m=\u001b[0m\u001b[0mnumpy\u001b[0m\u001b[1;33m.\u001b[0m\u001b[0mfloat64\u001b[0m\u001b[1;33m)\u001b[0m\u001b[1;33m\u001b[0m\u001b[1;33m\u001b[0m\u001b[0m\n\u001b[1;32m-> 1233\u001b[1;33m             return _write_analog_f_64(\n\u001b[0m\u001b[0;32m   1234\u001b[0m                 \u001b[0mself\u001b[0m\u001b[1;33m.\u001b[0m\u001b[0m_handle\u001b[0m\u001b[1;33m,\u001b[0m \u001b[0mdata\u001b[0m\u001b[1;33m,\u001b[0m \u001b[0mnumber_of_samples_per_channel\u001b[0m\u001b[1;33m,\u001b[0m \u001b[0mauto_start\u001b[0m\u001b[1;33m,\u001b[0m\u001b[1;33m\u001b[0m\u001b[1;33m\u001b[0m\u001b[0m\n\u001b[0;32m   1235\u001b[0m                 timeout)\n",
      "\u001b[1;32mC:\\ProgramData\\Anaconda3\\lib\\site-packages\\nidaqmx\\_task_modules\\write_functions.py\u001b[0m in \u001b[0;36m_write_analog_f_64\u001b[1;34m(task_handle, write_array, num_samps_per_chan, auto_start, timeout, data_layout)\u001b[0m\n\u001b[0;32m     30\u001b[0m         \u001b[0mdata_layout\u001b[0m\u001b[1;33m.\u001b[0m\u001b[0mvalue\u001b[0m\u001b[1;33m,\u001b[0m \u001b[0mwrite_array\u001b[0m\u001b[1;33m,\u001b[0m\u001b[1;33m\u001b[0m\u001b[1;33m\u001b[0m\u001b[0m\n\u001b[0;32m     31\u001b[0m         ctypes.byref(samps_per_chan_written), None)\n\u001b[1;32m---> 32\u001b[1;33m     \u001b[0mcheck_for_error\u001b[0m\u001b[1;33m(\u001b[0m\u001b[0merror_code\u001b[0m\u001b[1;33m)\u001b[0m\u001b[1;33m\u001b[0m\u001b[1;33m\u001b[0m\u001b[0m\n\u001b[0m\u001b[0;32m     33\u001b[0m \u001b[1;33m\u001b[0m\u001b[0m\n\u001b[0;32m     34\u001b[0m     \u001b[1;32mreturn\u001b[0m \u001b[0msamps_per_chan_written\u001b[0m\u001b[1;33m.\u001b[0m\u001b[0mvalue\u001b[0m\u001b[1;33m\u001b[0m\u001b[1;33m\u001b[0m\u001b[0m\n",
      "\u001b[1;32mC:\\ProgramData\\Anaconda3\\lib\\site-packages\\nidaqmx\\errors.py\u001b[0m in \u001b[0;36mcheck_for_error\u001b[1;34m(error_code)\u001b[0m\n\u001b[0;32m    125\u001b[0m         \u001b[0mcfunc\u001b[0m\u001b[1;33m(\u001b[0m\u001b[0merror_buffer\u001b[0m\u001b[1;33m,\u001b[0m \u001b[1;36m2048\u001b[0m\u001b[1;33m)\u001b[0m\u001b[1;33m\u001b[0m\u001b[1;33m\u001b[0m\u001b[0m\n\u001b[0;32m    126\u001b[0m \u001b[1;33m\u001b[0m\u001b[0m\n\u001b[1;32m--> 127\u001b[1;33m         \u001b[1;32mraise\u001b[0m \u001b[0mDaqError\u001b[0m\u001b[1;33m(\u001b[0m\u001b[0merror_buffer\u001b[0m\u001b[1;33m.\u001b[0m\u001b[0mvalue\u001b[0m\u001b[1;33m.\u001b[0m\u001b[0mdecode\u001b[0m\u001b[1;33m(\u001b[0m\u001b[1;34m\"utf-8\"\u001b[0m\u001b[1;33m)\u001b[0m\u001b[1;33m,\u001b[0m \u001b[0merror_code\u001b[0m\u001b[1;33m)\u001b[0m\u001b[1;33m\u001b[0m\u001b[1;33m\u001b[0m\u001b[0m\n\u001b[0m\u001b[0;32m    128\u001b[0m \u001b[1;33m\u001b[0m\u001b[0m\n\u001b[0;32m    129\u001b[0m     \u001b[1;32melif\u001b[0m \u001b[0merror_code\u001b[0m \u001b[1;33m>\u001b[0m \u001b[1;36m0\u001b[0m\u001b[1;33m:\u001b[0m\u001b[1;33m\u001b[0m\u001b[1;33m\u001b[0m\u001b[0m\n",
      "\u001b[1;31mDaqError\u001b[0m: The specified resource is reserved. The operation could not be completed as specified.\nTask Name: _unnamedTask<1>\n\nStatus Code: -50103"
     ]
    }
   ],
   "source": [
    "with nidaqmx.Task() as taskAO:\n",
    "    # create the channel\n",
    "    ao1=taskAO.ao_channels.add_ao_voltage_chan(dev+\"/ao0\",max_val=10,min_val=-10)  \n",
    "    # configure sample rate\n",
    "    taskAO.timing.cfg_samp_clk_timing(1e6, samps_per_chan=Ve.size)\n",
    "    # Put datasd into buffer and start task\n",
    "    taskAO.write(Ve,auto_start=True)  \n",
    "    taskAO.wait_until_done()\n",
    "    taskAO.stop()\n"
   ]
  },
  {
   "cell_type": "markdown",
   "id": "usual-flesh",
   "metadata": {
    "slideshow": {
     "slide_type": "slide"
    }
   },
   "source": [
    "# AI read"
   ]
  },
  {
   "cell_type": "code",
   "execution_count": 11,
   "id": "welsh-wedding",
   "metadata": {
    "slideshow": {
     "slide_type": "-"
    }
   },
   "outputs": [
    {
     "name": "stderr",
     "output_type": "stream",
     "text": [
      "C:\\ProgramData\\Anaconda3\\lib\\site-packages\\nidaqmx\\task.py:102: ResourceWarning: Task of name \"_unnamedTask<0>\" was not explicitly closed before it was destructed. Resources on the task device may still be reserved.\n",
      "  warnings.warn(\n"
     ]
    }
   ],
   "source": [
    "nsamples=100000\n",
    "taskAI=nidaqmx.Task()\n",
    "# create the channel\n",
    "aI1=taskAI.ai_channels.add_ai_voltage_chan(dev+\"/ai0\",max_val=10,min_val=-10)  \n",
    "# configure sample rate\n",
    "taskAI.timing.cfg_samp_clk_timing(rate=1e6, samps_per_chan=nsamples)\n",
    "taskAI.start() \n",
    "taskAI.wait_until_done()\n",
    "datas=taskAI.read(number_of_samples_per_channel=nsamples, timeout=10.0)\n",
    "taskAI.stop()"
   ]
  },
  {
   "cell_type": "code",
   "execution_count": 12,
   "id": "after-property",
   "metadata": {
    "slideshow": {
     "slide_type": "subslide"
    }
   },
   "outputs": [
    {
     "data": {
      "text/plain": [
       "[<matplotlib.lines.Line2D at 0x149169219a0>]"
      ]
     },
     "execution_count": 12,
     "metadata": {},
     "output_type": "execute_result"
    },
    {
     "data": {
      "image/png": "[encoded data removed]",
      "text/plain": [
       "<Figure size 432x288 with 1 Axes>"
      ]
     },
     "metadata": {
      "needs_background": "light"
     },
     "output_type": "display_data"
    }
   ],
   "source": [
    "plt.plot(datas)"
   ]
  },
  {
   "cell_type": "code",
   "execution_count": 13,
   "id": "warming-squad",
   "metadata": {
    "slideshow": {
     "slide_type": "slide"
    }
   },
   "outputs": [
    {
     "name": "stdout",
     "output_type": "stream",
     "text": [
      "Help on method read in module nidaqmx.task:\n",
      "\n",
      "read(number_of_samples_per_channel=<nidaqmx.task.UnsetNumSamplesSentinel object at 0x0000014914B76640>, timeout=10.0) method of nidaqmx.task.Task instance\n",
      "    Reads samples from the task or virtual channels you specify.\n",
      "    \n",
      "    This read method is dynamic, and is capable of inferring an appropriate\n",
      "    return type based on these factors:\n",
      "    - The channel type of the task.\n",
      "    - The number of channels to read.\n",
      "    - The number of samples per channel.\n",
      "    \n",
      "    The data type of the samples returned is independently determined by\n",
      "    the channel type of the task.\n",
      "    \n",
      "    For digital input measurements, the data type of the samples returned\n",
      "    is determined by the line grouping format of the digital lines.\n",
      "    If the line grouping format is set to \"one channel for all lines\", the\n",
      "    data type of the samples returned is int. If the line grouping\n",
      "    format is set to \"one channel per line\", the data type of the samples\n",
      "    returned is boolean.\n",
      "    \n",
      "    If you do not set the number of samples per channel, this method\n",
      "    assumes one sample was requested. This method then returns either a\n",
      "    scalar (1 channel to read) or a list (N channels to read).\n",
      "    \n",
      "    If you set the number of samples per channel to ANY value (even 1),\n",
      "    this method assumes multiple samples were requested. This method then\n",
      "    returns either a list (1 channel to read) or a list of lists (N\n",
      "    channels to read).\n",
      "    \n",
      "    Args:\n",
      "        number_of_samples_per_channel (Optional[int]): Specifies the\n",
      "            number of samples to read. If this input is not set,\n",
      "            assumes samples to read is 1. Conversely, if this input\n",
      "            is set, assumes there are multiple samples to read.\n",
      "    \n",
      "            If you set this input to nidaqmx.constants.\n",
      "            READ_ALL_AVAILABLE, NI-DAQmx determines how many samples\n",
      "            to read based on if the task acquires samples\n",
      "            continuously or acquires a finite number of samples.\n",
      "    \n",
      "            If the task acquires samples continuously and you set\n",
      "            this input to nidaqmx.constants.READ_ALL_AVAILABLE, this\n",
      "            method reads all the samples currently available in the\n",
      "            buffer.\n",
      "    \n",
      "            If the task acquires a finite number of samples and you\n",
      "            set this input to nidaqmx.constants.READ_ALL_AVAILABLE,\n",
      "            the method waits for the task to acquire all requested\n",
      "            samples, then reads those samples. If you set the\n",
      "            \"read_all_avail_samp\" property to True, the method reads\n",
      "            the samples currently available in the buffer and does\n",
      "            not wait for the task to acquire all requested samples.\n",
      "        timeout (Optional[float]): Specifies the amount of time in\n",
      "            seconds to wait for samples to become available. If the\n",
      "            time elapses, the method returns an error and any\n",
      "            samples read before the timeout elapsed. The default\n",
      "            timeout is 10 seconds. If you set timeout to\n",
      "            nidaqmx.constants.WAIT_INFINITELY, the method waits\n",
      "            indefinitely. If you set timeout to 0, the method tries\n",
      "            once to read the requested samples and returns an error\n",
      "            if it is unable to.\n",
      "    Returns:\n",
      "        dynamic:\n",
      "    \n",
      "        The samples requested in the form of a scalar, a list, or a\n",
      "        list of lists. See method docstring for more info.\n",
      "    \n",
      "        NI-DAQmx scales the data to the units of the measurement,\n",
      "        including any custom scaling you apply to the channels. Use a\n",
      "        DAQmx Create Channel method to specify these units.\n",
      "    \n",
      "    Example:\n",
      "        >>> task = Task()\n",
      "        >>> task.ai_channels.add_voltage_channel('Dev1/ai0:3')\n",
      "        >>> data = task.read()\n",
      "        >>> type(data)\n",
      "        <type 'list'>\n",
      "        >>> type(data[0])\n",
      "        <type 'float'>\n",
      "\n"
     ]
    }
   ],
   "source": [
    "help(taskAI.read)\n",
    "taskAI.close()"
   ]
  },
  {
   "cell_type": "code",
   "execution_count": 14,
   "id": "intellectual-outdoors",
   "metadata": {
    "slideshow": {
     "slide_type": "slide"
    }
   },
   "outputs": [
    {
     "data": {
      "image/png": "[encoded data removed]",
      "text/plain": [
       "<Figure size 432x288 with 1 Axes>"
      ]
     },
     "metadata": {
      "needs_background": "light"
     },
     "output_type": "display_data"
    }
   ],
   "source": [
    "nsamples=100000\n",
    "with nidaqmx.Task() as taskAI:\n",
    "    # create the channel\n",
    "    aI1=taskAI.ai_channels.add_ai_voltage_chan(dev+\"/ai0\",max_val=10,min_val=-10)  \n",
    "    # configure sample rate\n",
    "    taskAI.timing.cfg_samp_clk_timing(rate=1e6, samps_per_chan=nsamples)\n",
    "    taskAI.start() \n",
    "    taskAI.wait_until_done()\n",
    "    datas=taskAI.read(number_of_samples_per_channel=nsamples, timeout=10.0)\n",
    "    taskAI.stop()\n",
    "    plt.plot(datas)"
   ]
  },
  {
   "cell_type": "code",
   "execution_count": 15,
   "id": "former-ukraine",
   "metadata": {},
   "outputs": [
    {
     "ename": "DaqError",
     "evalue": "The specified resource is reserved. The operation could not be completed as specified.\nTask Name: _unnamedTask<5>\n\nStatus Code: -50103",
     "output_type": "error",
     "traceback": [
      "\u001b[1;31m---------------------------------------------------------------------------\u001b[0m",
      "\u001b[1;31mDaqError\u001b[0m                                  Traceback (most recent call last)",
      "\u001b[1;32m~\\AppData\\Local\\Temp/ipykernel_21992/644537298.py\u001b[0m in \u001b[0;36m<module>\u001b[1;34m\u001b[0m\n\u001b[0;32m     10\u001b[0m \u001b[1;33m\u001b[0m\u001b[0m\n\u001b[0;32m     11\u001b[0m     \u001b[0mtaskAI\u001b[0m\u001b[1;33m.\u001b[0m\u001b[0mstart\u001b[0m\u001b[1;33m(\u001b[0m\u001b[1;33m)\u001b[0m\u001b[1;33m\u001b[0m\u001b[1;33m\u001b[0m\u001b[0m\n\u001b[1;32m---> 12\u001b[1;33m     \u001b[0mtaskAO\u001b[0m\u001b[1;33m.\u001b[0m\u001b[0mwrite\u001b[0m\u001b[1;33m(\u001b[0m\u001b[0mVe\u001b[0m\u001b[1;33m,\u001b[0m\u001b[0mauto_start\u001b[0m\u001b[1;33m=\u001b[0m\u001b[1;32mTrue\u001b[0m\u001b[1;33m)\u001b[0m\u001b[1;33m\u001b[0m\u001b[1;33m\u001b[0m\u001b[0m\n\u001b[0m\u001b[0;32m     13\u001b[0m \u001b[1;33m\u001b[0m\u001b[0m\n\u001b[0;32m     14\u001b[0m     \u001b[0mtaskAO\u001b[0m\u001b[1;33m.\u001b[0m\u001b[0mwait_until_done\u001b[0m\u001b[1;33m(\u001b[0m\u001b[1;33m)\u001b[0m\u001b[1;33m\u001b[0m\u001b[1;33m\u001b[0m\u001b[0m\n",
      "\u001b[1;32mC:\\ProgramData\\Anaconda3\\lib\\site-packages\\nidaqmx\\task.py\u001b[0m in \u001b[0;36mwrite\u001b[1;34m(self, data, auto_start, timeout)\u001b[0m\n\u001b[0;32m   1231\u001b[0m         \u001b[1;32mif\u001b[0m \u001b[0mwrite_chan_type\u001b[0m \u001b[1;33m==\u001b[0m \u001b[0mChannelType\u001b[0m\u001b[1;33m.\u001b[0m\u001b[0mANALOG_OUTPUT\u001b[0m\u001b[1;33m:\u001b[0m\u001b[1;33m\u001b[0m\u001b[1;33m\u001b[0m\u001b[0m\n\u001b[0;32m   1232\u001b[0m             \u001b[0mdata\u001b[0m \u001b[1;33m=\u001b[0m \u001b[0mnumpy\u001b[0m\u001b[1;33m.\u001b[0m\u001b[0masarray\u001b[0m\u001b[1;33m(\u001b[0m\u001b[0mdata\u001b[0m\u001b[1;33m,\u001b[0m \u001b[0mdtype\u001b[0m\u001b[1;33m=\u001b[0m\u001b[0mnumpy\u001b[0m\u001b[1;33m.\u001b[0m\u001b[0mfloat64\u001b[0m\u001b[1;33m)\u001b[0m\u001b[1;33m\u001b[0m\u001b[1;33m\u001b[0m\u001b[0m\n\u001b[1;32m-> 1233\u001b[1;33m             return _write_analog_f_64(\n\u001b[0m\u001b[0;32m   1234\u001b[0m                 \u001b[0mself\u001b[0m\u001b[1;33m.\u001b[0m\u001b[0m_handle\u001b[0m\u001b[1;33m,\u001b[0m \u001b[0mdata\u001b[0m\u001b[1;33m,\u001b[0m \u001b[0mnumber_of_samples_per_channel\u001b[0m\u001b[1;33m,\u001b[0m \u001b[0mauto_start\u001b[0m\u001b[1;33m,\u001b[0m\u001b[1;33m\u001b[0m\u001b[1;33m\u001b[0m\u001b[0m\n\u001b[0;32m   1235\u001b[0m                 timeout)\n",
      "\u001b[1;32mC:\\ProgramData\\Anaconda3\\lib\\site-packages\\nidaqmx\\_task_modules\\write_functions.py\u001b[0m in \u001b[0;36m_write_analog_f_64\u001b[1;34m(task_handle, write_array, num_samps_per_chan, auto_start, timeout, data_layout)\u001b[0m\n\u001b[0;32m     30\u001b[0m         \u001b[0mdata_layout\u001b[0m\u001b[1;33m.\u001b[0m\u001b[0mvalue\u001b[0m\u001b[1;33m,\u001b[0m \u001b[0mwrite_array\u001b[0m\u001b[1;33m,\u001b[0m\u001b[1;33m\u001b[0m\u001b[1;33m\u001b[0m\u001b[0m\n\u001b[0;32m     31\u001b[0m         ctypes.byref(samps_per_chan_written), None)\n\u001b[1;32m---> 32\u001b[1;33m     \u001b[0mcheck_for_error\u001b[0m\u001b[1;33m(\u001b[0m\u001b[0merror_code\u001b[0m\u001b[1;33m)\u001b[0m\u001b[1;33m\u001b[0m\u001b[1;33m\u001b[0m\u001b[0m\n\u001b[0m\u001b[0;32m     33\u001b[0m \u001b[1;33m\u001b[0m\u001b[0m\n\u001b[0;32m     34\u001b[0m     \u001b[1;32mreturn\u001b[0m \u001b[0msamps_per_chan_written\u001b[0m\u001b[1;33m.\u001b[0m\u001b[0mvalue\u001b[0m\u001b[1;33m\u001b[0m\u001b[1;33m\u001b[0m\u001b[0m\n",
      "\u001b[1;32mC:\\ProgramData\\Anaconda3\\lib\\site-packages\\nidaqmx\\errors.py\u001b[0m in \u001b[0;36mcheck_for_error\u001b[1;34m(error_code)\u001b[0m\n\u001b[0;32m    125\u001b[0m         \u001b[0mcfunc\u001b[0m\u001b[1;33m(\u001b[0m\u001b[0merror_buffer\u001b[0m\u001b[1;33m,\u001b[0m \u001b[1;36m2048\u001b[0m\u001b[1;33m)\u001b[0m\u001b[1;33m\u001b[0m\u001b[1;33m\u001b[0m\u001b[0m\n\u001b[0;32m    126\u001b[0m \u001b[1;33m\u001b[0m\u001b[0m\n\u001b[1;32m--> 127\u001b[1;33m         \u001b[1;32mraise\u001b[0m \u001b[0mDaqError\u001b[0m\u001b[1;33m(\u001b[0m\u001b[0merror_buffer\u001b[0m\u001b[1;33m.\u001b[0m\u001b[0mvalue\u001b[0m\u001b[1;33m.\u001b[0m\u001b[0mdecode\u001b[0m\u001b[1;33m(\u001b[0m\u001b[1;34m\"utf-8\"\u001b[0m\u001b[1;33m)\u001b[0m\u001b[1;33m,\u001b[0m \u001b[0merror_code\u001b[0m\u001b[1;33m)\u001b[0m\u001b[1;33m\u001b[0m\u001b[1;33m\u001b[0m\u001b[0m\n\u001b[0m\u001b[0;32m    128\u001b[0m \u001b[1;33m\u001b[0m\u001b[0m\n\u001b[0;32m    129\u001b[0m     \u001b[1;32melif\u001b[0m \u001b[0merror_code\u001b[0m \u001b[1;33m>\u001b[0m \u001b[1;36m0\u001b[0m\u001b[1;33m:\u001b[0m\u001b[1;33m\u001b[0m\u001b[1;33m\u001b[0m\u001b[0m\n",
      "\u001b[1;31mDaqError\u001b[0m: The specified resource is reserved. The operation could not be completed as specified.\nTask Name: _unnamedTask<5>\n\nStatus Code: -50103"
     ]
    }
   ],
   "source": [
    "nsamples=20000\n",
    "with nidaqmx.Task() as taskAI, nidaqmx.Task() as taskAO:\n",
    "    # create the channel\n",
    "    aI1=taskAI.ai_channels.add_ai_voltage_chan(dev+\"/ai0\",max_val=10,min_val=-10)\n",
    "    ao1=taskAO.ao_channels.add_ao_voltage_chan(dev+\"/ao0\",max_val=10,min_val=-10)\n",
    "    \n",
    "    # configure sample rate\n",
    "    taskAI.timing.cfg_samp_clk_timing(rate=1e6, samps_per_chan=nsamples)\n",
    "    taskAO.timing.cfg_samp_clk_timing(rate=1e6, samps_per_chan=Ve.size)\n",
    "    \n",
    "    taskAI.start()\n",
    "    taskAO.write(Ve,auto_start=True)\n",
    "    \n",
    "    taskAO.wait_until_done()\n",
    "    taskAI.wait_until_done()\n",
    "    \n",
    "    datas=taskAI.read(number_of_samples_per_channel=nsamples, timeout=10.0)\n",
    "    \n",
    "    taskAI.stop()\n",
    "    taskAO.stop() \n",
    "    plt.plot(datas)\n",
    "    plt.plot(*getfirstedge(datas),'o')   \n",
    "getfirstedge(datas)[0]    "
   ]
  },
  {
   "cell_type": "code",
   "execution_count": 42,
   "id": "ranking-reach",
   "metadata": {},
   "outputs": [],
   "source": [
    "def getfirstedge(datas,treshold=0.5):\n",
    "    datas=np.asarray(datas)\n",
    "    edges=np.where(datas>treshold)\n",
    "    return edges[0][0],datas[edges[0][0]]"
   ]
  },
  {
   "cell_type": "code",
   "execution_count": 72,
   "id": "genuine-sampling",
   "metadata": {
    "scrolled": true
   },
   "outputs": [
    {
     "data": {
      "text/plain": [
       "1256"
      ]
     },
     "execution_count": 72,
     "metadata": {},
     "output_type": "execute_result"
    },
    {
     "data": {
      "image/png": "[encoded data removed]",
      "text/plain": [
       "<Figure size 432x288 with 1 Axes>"
      ]
     },
     "metadata": {
      "needs_background": "light"
     },
     "output_type": "display_data"
    }
   ],
   "source": [
    "nsamples=30000\n",
    "with nidaqmx.Task() as taskAI, nidaqmx.Task() as taskAO:\n",
    "    # create the channel\n",
    "    aI1=taskAI.ai_channels.add_ai_voltage_chan(dev+\"/ai0\",max_val=10,min_val=-10)\n",
    "    ao1=taskAO.ao_channels.add_ao_voltage_chan(dev+\"/ao0\",max_val=10,min_val=-10)\n",
    "    \n",
    "    # configure sample rate\n",
    "    taskAI.timing.cfg_samp_clk_timing(rate=1e6, samps_per_chan=nsamples)\n",
    "    taskAO.timing.cfg_samp_clk_timing(rate=1e6, samps_per_chan=Ve.size)\n",
    "    \n",
    "    #configure trigger\n",
    "    taskAI.triggers.reference_trigger.cfg_dig_edge_ref_trig('/'+dev+'/ao/StartTrigger',\n",
    "                                                            pretrigger_samples= 1000)\n",
    "    \n",
    "    taskAI.start()\n",
    "    taskAO.write(Ve,auto_start=True)\n",
    "    \n",
    "    taskAO.wait_until_done()\n",
    "    taskAI.wait_until_done()\n",
    "    \n",
    "    datas=taskAI.read(number_of_samples_per_channel=nsamples, timeout=10.0)\n",
    "    \n",
    "    taskAI.stop()\n",
    "    taskAO.stop() \n",
    "    plt.plot(datas)\n",
    "    plt.plot(*getfirstedge(datas),'o')   \n",
    "getfirstedge(datas)[0]   "
   ]
  },
  {
   "cell_type": "code",
   "execution_count": 54,
   "id": "dedicated-search",
   "metadata": {},
   "outputs": [
    {
     "data": {
      "text/plain": [
       "'Dev1/ao/StartTrigger'"
      ]
     },
     "execution_count": 54,
     "metadata": {},
     "output_type": "execute_result"
    }
   ],
   "source": [
    "dev+'/ao/StartTrigger'"
   ]
  },
  {
   "cell_type": "code",
   "execution_count": null,
   "id": "retired-technical",
   "metadata": {},
   "outputs": [],
   "source": []
  }
 ],
 "metadata": {
  "celltoolbar": "Diaporama",
  "kernelspec": {
   "display_name": "Python 3 (ipykernel)",
   "language": "python",
   "name": "python3"
  },
  "language_info": {
   "codemirror_mode": {
    "name": "ipython",
    "version": 3
   },
   "file_extension": ".py",
   "mimetype": "text/x-python",
   "name": "python",
   "nbconvert_exporter": "python",
   "pygments_lexer": "ipython3",
   "version": "3.9.18"
  }
 },
 "nbformat": 4,
 "nbformat_minor": 5
}
