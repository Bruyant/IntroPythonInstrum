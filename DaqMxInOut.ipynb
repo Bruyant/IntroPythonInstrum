{
 "cells": [
  {
   "cell_type": "code",
   "execution_count": 1,
   "id": "rapid-spirit",
   "metadata": {
    "slideshow": {
     "slide_type": "slide"
    }
   },
   "outputs": [
    {
     "data": {
      "text/plain": [
       "DriverVersion(major_version=20, minor_version=1, update_version=0)"
      ]
     },
     "execution_count": 1,
     "metadata": {},
     "output_type": "execute_result"
    }
   ],
   "source": [
    "import matplotlib.pyplot as plt\n",
    "import nidaqmx.system\n",
    "system = nidaqmx.system.System.local()\n",
    "system.driver_version"
   ]
  },
  {
   "cell_type": "code",
   "execution_count": 2,
   "id": "alive-columbia",
   "metadata": {},
   "outputs": [
    {
     "data": {
      "text/plain": [
       "'DevSim'"
      ]
     },
     "execution_count": 2,
     "metadata": {},
     "output_type": "execute_result"
    }
   ],
   "source": [
    "dev=system.devices.device_names[0] # autodetect first device\n",
    "dev"
   ]
  },
  {
   "cell_type": "code",
   "execution_count": 3,
   "id": "unavailable-breath",
   "metadata": {
    "slideshow": {
     "slide_type": "subslide"
    }
   },
   "outputs": [],
   "source": [
    "import numpy as np\n",
    "\n",
    "#generate fake sig\n",
    "Fs=1e6\n",
    "fex=20e3\n",
    "t=np.arange(-5/fex,11/fex,1/Fs)\n",
    "Ve=(t>0)*(t<10/fex)*np.sin(t*fex*2*np.pi)\n",
    "\n",
    "# ensure the the array is good to send to daqmx\n",
    "Ve=np.ascontiguousarray(Ve)\n"
   ]
  },
  {
   "cell_type": "markdown",
   "id": "separated-thickness",
   "metadata": {
    "slideshow": {
     "slide_type": "slide"
    }
   },
   "source": [
    "# AO write"
   ]
  },
  {
   "cell_type": "code",
   "execution_count": 4,
   "id": "effective-science",
   "metadata": {},
   "outputs": [],
   "source": [
    "taskAO=nidaqmx.Task()\n",
    "# create the channel\n",
    "ao1=taskAO.ao_channels.add_ao_voltage_chan(dev+\"/ao0\",max_val=10,min_val=-10)  \n",
    "# configure sample rate\n",
    "taskAO.timing.cfg_samp_clk_timing(1e6, samps_per_chan=Ve.size)\n",
    "# Put datasd into buffer and start task\n",
    "taskAO.write(Ve,auto_start=True)  \n",
    "taskAO.wait_until_done()\n",
    "taskAO.stop()"
   ]
  },
  {
   "cell_type": "code",
   "execution_count": 5,
   "id": "respected-munich",
   "metadata": {
    "slideshow": {
     "slide_type": "subslide"
    }
   },
   "outputs": [
    {
     "name": "stdout",
     "output_type": "stream",
     "text": [
      "Help on method add_ao_voltage_chan in module nidaqmx._task_modules.ao_channel_collection:\n",
      "\n",
      "add_ao_voltage_chan(physical_channel, name_to_assign_to_channel='', min_val=-10.0, max_val=10.0, units=<VoltageUnits.VOLTS: 10348>, custom_scale_name='') method of nidaqmx._task_modules.ao_channel_collection.AOChannelCollection instance\n",
      "    Creates channel(s) to generate voltage.\n",
      "    \n",
      "    Args:\n",
      "        physical_channel (str): Specifies the names of the physical\n",
      "            channels to use to create virtual channels. The DAQmx\n",
      "            physical channel constant lists all physical channels on\n",
      "            devices and modules installed in the system.\n",
      "        name_to_assign_to_channel (Optional[str]): Specifies a name\n",
      "            to assign to the virtual channel this function creates.\n",
      "            If you do not specify a value for this input, NI-DAQmx\n",
      "            uses the physical channel name as the virtual channel\n",
      "            name.\n",
      "        min_val (Optional[float]): Specifies in **units** the\n",
      "            minimum value you expect to generate.\n",
      "        max_val (Optional[float]): Specifies in **units** the\n",
      "            maximum value you expect to generate.\n",
      "        units (Optional[nidaqmx.constants.VoltageUnits]): Specifies\n",
      "            the units to use to generate voltage.\n",
      "        custom_scale_name (Optional[str]): Specifies the name of a\n",
      "            custom scale for the channel. If you want the channel to\n",
      "            use a custom scale, specify the name of the custom scale\n",
      "            to this input and set **units** to\n",
      "            **FROM_CUSTOM_SCALE**.\n",
      "    Returns:\n",
      "        nidaqmx._task_modules.channels.ao_channel.AOChannel:\n",
      "        \n",
      "        Indicates the newly created channel object.\n",
      "\n"
     ]
    }
   ],
   "source": [
    "help(taskAO.ao_channels.add_ao_voltage_chan)\n",
    "taskAO.close()"
   ]
  },
  {
   "cell_type": "code",
   "execution_count": 6,
   "id": "elect-death",
   "metadata": {
    "slideshow": {
     "slide_type": "slide"
    }
   },
   "outputs": [],
   "source": [
    "with nidaqmx.Task() as taskAO:\n",
    "    # create the channel\n",
    "    ao1=taskAO.ao_channels.add_ao_voltage_chan(dev+\"/ao0\",max_val=10,min_val=-10)  \n",
    "    # configure sample rate\n",
    "    taskAO.timing.cfg_samp_clk_timing(1e6, samps_per_chan=Ve.size)\n",
    "    # Put datasd into buffer and start task\n",
    "    taskAO.write(Ve,auto_start=True)  \n",
    "    taskAO.wait_until_done()\n",
    "    taskAO.stop()\n"
   ]
  },
  {
   "cell_type": "markdown",
   "id": "pressing-prediction",
   "metadata": {
    "slideshow": {
     "slide_type": "slide"
    }
   },
   "source": [
    "# AI read"
   ]
  },
  {
   "cell_type": "code",
   "execution_count": 7,
   "id": "western-navigator",
   "metadata": {
    "slideshow": {
     "slide_type": "-"
    }
   },
   "outputs": [],
   "source": [
    "nsamples=100000\n",
    "taskAI=nidaqmx.Task()\n",
    "# create the channel\n",
    "aI1=taskAI.ai_channels.add_ai_voltage_chan(dev+\"/ai0\",max_val=10,min_val=-10)  \n",
    "# configure sample rate\n",
    "taskAI.timing.cfg_samp_clk_timing(rate=1e6, samps_per_chan=nsamples)\n",
    "taskAI.start() \n",
    "taskAI.wait_until_done()\n",
    "datas=taskAI.read(number_of_samples_per_channel=nsamples, timeout=10.0)\n",
    "taskAI.stop()"
   ]
  },
  {
   "cell_type": "code",
   "execution_count": 8,
   "id": "laughing-abraham",
   "metadata": {
    "slideshow": {
     "slide_type": "subslide"
    }
   },
   "outputs": [
    {
     "data": {
      "text/plain": [
       "[<matplotlib.lines.Line2D at 0x1f6c47d7220>]"
      ]
     },
     "execution_count": 8,
     "metadata": {},
     "output_type": "execute_result"
    },
    {
     "data": {
      "image/png": "[encoded data removed]",
      "text/plain": [
       "<Figure size 432x288 with 1 Axes>"
      ]
     },
     "metadata": {
      "needs_background": "light"
     },
     "output_type": "display_data"
    }
   ],
   "source": [
    "plt.plot(datas)"
   ]
  },
  {
   "cell_type": "code",
   "execution_count": 9,
   "id": "built-tucson",
   "metadata": {
    "slideshow": {
     "slide_type": "slide"
    }
   },
   "outputs": [
    {
     "name": "stdout",
     "output_type": "stream",
     "text": [
      "Help on method read in module nidaqmx.task:\n",
      "\n",
      "read(number_of_samples_per_channel=<nidaqmx.task.UnsetNumSamplesSentinel object at 0x000001F6C389FE80>, timeout=10.0) method of nidaqmx.task.Task instance\n",
      "    Reads samples from the task or virtual channels you specify.\n",
      "    \n",
      "    This read method is dynamic, and is capable of inferring an appropriate\n",
      "    return type based on these factors:\n",
      "    - The channel type of the task.\n",
      "    - The number of channels to read.\n",
      "    - The number of samples per channel.\n",
      "    \n",
      "    The data type of the samples returned is independently determined by\n",
      "    the channel type of the task.\n",
      "    \n",
      "    For digital input measurements, the data type of the samples returned\n",
      "    is determined by the line grouping format of the digital lines.\n",
      "    If the line grouping format is set to \"one channel for all lines\", the\n",
      "    data type of the samples returned is int. If the line grouping\n",
      "    format is set to \"one channel per line\", the data type of the samples\n",
      "    returned is boolean.\n",
      "    \n",
      "    If you do not set the number of samples per channel, this method\n",
      "    assumes one sample was requested. This method then returns either a\n",
      "    scalar (1 channel to read) or a list (N channels to read).\n",
      "    \n",
      "    If you set the number of samples per channel to ANY value (even 1),\n",
      "    this method assumes multiple samples were requested. This method then\n",
      "    returns either a list (1 channel to read) or a list of lists (N\n",
      "    channels to read).\n",
      "    \n",
      "    Args:\n",
      "        number_of_samples_per_channel (Optional[int]): Specifies the\n",
      "            number of samples to read. If this input is not set,\n",
      "            assumes samples to read is 1. Conversely, if this input\n",
      "            is set, assumes there are multiple samples to read.\n",
      "    \n",
      "            If you set this input to nidaqmx.constants.\n",
      "            READ_ALL_AVAILABLE, NI-DAQmx determines how many samples\n",
      "            to read based on if the task acquires samples\n",
      "            continuously or acquires a finite number of samples.\n",
      "    \n",
      "            If the task acquires samples continuously and you set\n",
      "            this input to nidaqmx.constants.READ_ALL_AVAILABLE, this\n",
      "            method reads all the samples currently available in the\n",
      "            buffer.\n",
      "    \n",
      "            If the task acquires a finite number of samples and you\n",
      "            set this input to nidaqmx.constants.READ_ALL_AVAILABLE,\n",
      "            the method waits for the task to acquire all requested\n",
      "            samples, then reads those samples. If you set the\n",
      "            \"read_all_avail_samp\" property to True, the method reads\n",
      "            the samples currently available in the buffer and does\n",
      "            not wait for the task to acquire all requested samples.\n",
      "        timeout (Optional[float]): Specifies the amount of time in\n",
      "            seconds to wait for samples to become available. If the\n",
      "            time elapses, the method returns an error and any\n",
      "            samples read before the timeout elapsed. The default\n",
      "            timeout is 10 seconds. If you set timeout to\n",
      "            nidaqmx.constants.WAIT_INFINITELY, the method waits\n",
      "            indefinitely. If you set timeout to 0, the method tries\n",
      "            once to read the requested samples and returns an error\n",
      "            if it is unable to.\n",
      "    Returns:\n",
      "        dynamic:\n",
      "    \n",
      "        The samples requested in the form of a scalar, a list, or a\n",
      "        list of lists. See method docstring for more info.\n",
      "    \n",
      "        NI-DAQmx scales the data to the units of the measurement,\n",
      "        including any custom scaling you apply to the channels. Use a\n",
      "        DAQmx Create Channel method to specify these units.\n",
      "    \n",
      "    Example:\n",
      "        >>> task = Task()\n",
      "        >>> task.ai_channels.add_voltage_channel('Dev1/ai0:3')\n",
      "        >>> data = task.read()\n",
      "        >>> type(data)\n",
      "        <type 'list'>\n",
      "        >>> type(data[0])\n",
      "        <type 'float'>\n",
      "\n"
     ]
    }
   ],
   "source": [
    "help(taskAI.read)\n",
    "taskAI.close()"
   ]
  },
  {
   "cell_type": "code",
   "execution_count": 10,
   "id": "competitive-cathedral",
   "metadata": {
    "slideshow": {
     "slide_type": "slide"
    }
   },
   "outputs": [
    {
     "data": {
      "image/png": "[encoded data removed]",
      "text/plain": [
       "<Figure size 432x288 with 1 Axes>"
      ]
     },
     "metadata": {
      "needs_background": "light"
     },
     "output_type": "display_data"
    }
   ],
   "source": [
    "nsamples=100000\n",
    "with nidaqmx.Task() as taskAI:\n",
    "    # create the channel\n",
    "    aI1=taskAI.ai_channels.add_ai_voltage_chan(dev+\"/ai0\",max_val=10,min_val=-10)  \n",
    "    # configure sample rate\n",
    "    taskAI.timing.cfg_samp_clk_timing(rate=1e6, samps_per_chan=nsamples)\n",
    "    taskAI.start() \n",
    "    taskAI.wait_until_done()\n",
    "    datas=taskAI.read(number_of_samples_per_channel=nsamples, timeout=10.0)\n",
    "    taskAI.stop()\n",
    "    plt.plot(datas)"
   ]
  },
  {
   "cell_type": "code",
   "execution_count": null,
   "id": "gross-terminal",
   "metadata": {},
   "outputs": [],
   "source": []
  }
 ],
 "metadata": {
  "celltoolbar": "Diaporama",
  "kernelspec": {
   "display_name": "Python 3",
   "language": "python",
   "name": "python3"
  },
  "language_info": {
   "codemirror_mode": {
    "name": "ipython",
    "version": 3
   },
   "file_extension": ".py",
   "mimetype": "text/x-python",
   "name": "python",
   "nbconvert_exporter": "python",
   "pygments_lexer": "ipython3",
   "version": "3.8.3"
  }
 },
 "nbformat": 4,
 "nbformat_minor": 5
}
