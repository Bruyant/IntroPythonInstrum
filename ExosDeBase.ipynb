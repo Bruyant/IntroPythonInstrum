{
 "cells": [
  {
   "cell_type": "markdown",
   "metadata": {
    "slideshow": {
     "slide_type": "slide"
    }
   },
   "source": [
    "# Exercices pratiques basiques"
   ]
  },
  {
   "cell_type": "markdown",
   "metadata": {
    "slideshow": {
     "slide_type": "slide"
    }
   },
   "source": [
    "# 1. Affectation\n",
    "- affecter l'entier 1 à Entier\n",
    "- affecter le flotant 2 à Flottant\n",
    "- echanger leur valeurs\n",
    "- utiliser la fonction `type()` pour connaitre leur type"
   ]
  },
  {
   "cell_type": "code",
   "execution_count": 1,
   "metadata": {},
   "outputs": [
    {
     "name": "stdout",
     "output_type": "stream",
     "text": [
      "1 2.0\n"
     ]
    },
    {
     "data": {
      "text/plain": [
       "(2.0, 1, float)"
      ]
     },
     "execution_count": 1,
     "metadata": {},
     "output_type": "execute_result"
    }
   ],
   "source": [
    "entier=1\n",
    "\n",
    "flottant=2.0\n",
    "print(entier,flottant)\n",
    "entier,flottant=flottant,entier\n",
    "entier,flottant,type(entier)"
   ]
  },
  {
   "cell_type": "code",
   "execution_count": 2,
   "metadata": {},
   "outputs": [
    {
     "data": {
      "text/plain": [
       "(1, 2)"
      ]
     },
     "execution_count": 2,
     "metadata": {},
     "output_type": "execute_result"
    }
   ],
   "source": [
    "a=1;b=2\n",
    "a, b"
   ]
  },
  {
   "cell_type": "markdown",
   "metadata": {
    "slideshow": {
     "slide_type": "slide"
    }
   },
   "source": [
    "# 2. Calculs simples\n",
    "- Faire une addition, une multiplication\n",
    "- Caculer $\\sin(\\pi/2)$, $\\cos(\\pi/4)$, $\\sqrt2$\n",
    "- Calculer $50*(10^{\\frac{alpha}{20}} - 1 )$ : le resultat est 2.962 pour alpha=0.5 db/m\n"
   ]
  },
  {
   "cell_type": "code",
   "execution_count": 3,
   "metadata": {},
   "outputs": [
    {
     "ename": "NameError",
     "evalue": "name 'math' is not defined",
     "output_type": "error",
     "traceback": [
      "\u001b[1;31m---------------------------------------------------------------------------\u001b[0m",
      "\u001b[1;31mNameError\u001b[0m                                 Traceback (most recent call last)",
      "Cell \u001b[1;32mIn[3], line 1\u001b[0m\n\u001b[1;32m----> 1\u001b[0m \u001b[43mmath\u001b[49m\u001b[38;5;241m.\u001b[39mpi\u001b[38;5;241m-\u001b[39mnp\u001b[38;5;241m.\u001b[39mpi\n",
      "\u001b[1;31mNameError\u001b[0m: name 'math' is not defined"
     ]
    }
   ],
   "source": [
    "\n",
    "math.pi-np.pi"
   ]
  },
  {
   "cell_type": "code",
   "execution_count": null,
   "metadata": {},
   "outputs": [],
   "source": [
    "alpha=0.5\n",
    "10^0"
   ]
  },
  {
   "cell_type": "code",
   "execution_count": null,
   "metadata": {},
   "outputs": [],
   "source": [
    "2+1"
   ]
  },
  {
   "cell_type": "markdown",
   "metadata": {
    "slideshow": {
     "slide_type": "slide"
    }
   },
   "source": [
    "# 3. Chaines de caratères\n",
    "- Affecter la chaine Bonjour à la variable a\n",
    "- Affecter la chaine /* Bonjour */ à la variable b\n",
    "- Concatener ces 2 chaines\n",
    "- Utiliser print pour les afficher\n",
    "- Crée des chaines avec des ' ou des \" a l'interieur et aussi des chaines sur plusieur lignes\n",
    "- Les afficher avec et sans les codes \\n"
   ]
  },
  {
   "cell_type": "markdown",
   "metadata": {},
   "source": [
    "# 4. Les listes\n",
    "- crée une liste des entiers de 1 a 10\n",
    "- crée une liste des entiers de 1 a 10 puis de 10 a zero\n",
    "- crée un liste d'objets de différents types\n",
    "- iterer sur cette liste pour en afficher le contenu\n"
   ]
  },
  {
   "cell_type": "code",
   "execution_count": null,
   "metadata": {},
   "outputs": [],
   "source": [
    "l=[]\n",
    "for i in range(10):\n",
    "    l.append(i*2+1)\n",
    "l    "
   ]
  },
  {
   "cell_type": "code",
   "execution_count": null,
   "metadata": {},
   "outputs": [],
   "source": [
    "l=[i*2+1 for i in range(10)]\n",
    "l"
   ]
  },
  {
   "cell_type": "code",
   "execution_count": null,
   "metadata": {},
   "outputs": [],
   "source": [
    "l=list(range(0,10))\n",
    "l"
   ]
  },
  {
   "cell_type": "code",
   "execution_count": null,
   "metadata": {},
   "outputs": [],
   "source": [
    "l=np.arange(0,10)\n",
    "l"
   ]
  },
  {
   "cell_type": "code",
   "execution_count": null,
   "metadata": {},
   "outputs": [],
   "source": [
    "l,l[6:2:-1],list(range(10))[2:6]"
   ]
  },
  {
   "cell_type": "code",
   "execution_count": null,
   "metadata": {},
   "outputs": [],
   "source": [
    "f=[1,'a',print]\n",
    "f[2](f[0])"
   ]
  },
  {
   "cell_type": "code",
   "execution_count": null,
   "metadata": {},
   "outputs": [],
   "source": [
    "l=[i for i in range(10)]\n",
    "for f in [np.sin,np.cos]:\n",
    "    for elt in l:\n",
    "        print(f,elt,f(elt))"
   ]
  },
  {
   "cell_type": "markdown",
   "metadata": {},
   "source": [
    "# 5. Les dictionnaires\n",
    "- trouve le rang d'un caractere au hazard\n",
    "- crée un dictionnaire avec le rang de chaque caractere: a : 1, b : 2, \n",
    "- utiliser un dictionaire pour compter les occurences de chaque caractere d'une chaine"
   ]
  },
  {
   "cell_type": "code",
   "execution_count": null,
   "metadata": {},
   "outputs": [],
   "source": [
    "dico={'ab':10,'cd':20,1:10}\n",
    "dico,dico['ab'],dico[1]"
   ]
  },
  {
   "cell_type": "code",
   "execution_count": null,
   "metadata": {},
   "outputs": [],
   "source": [
    "dico[0]"
   ]
  },
  {
   "cell_type": "code",
   "execution_count": null,
   "metadata": {},
   "outputs": [],
   "source": [
    "rang={'a':1,'b':2}\n",
    "rang['a']"
   ]
  },
  {
   "cell_type": "code",
   "execution_count": null,
   "metadata": {},
   "outputs": [],
   "source": [
    "chr(97)"
   ]
  },
  {
   "cell_type": "code",
   "execution_count": null,
   "metadata": {},
   "outputs": [],
   "source": [
    "chaine='vujfpdk,znubino,speonrc,x'"
   ]
  },
  {
   "cell_type": "code",
   "execution_count": null,
   "metadata": {},
   "outputs": [],
   "source": [
    "comptage['v']=1\n",
    "comptage"
   ]
  },
  {
   "cell_type": "code",
   "execution_count": null,
   "metadata": {},
   "outputs": [],
   "source": [
    "chaine[0] in comptage"
   ]
  },
  {
   "cell_type": "markdown",
   "metadata": {
    "slideshow": {
     "slide_type": "slide"
    }
   },
   "source": [
    "# 6. Les boucles et tests\n",
    "- cree un boucle qui tire 10 Fois 3 nombres aléatoire entre 0 et 6 : tirer 3 dès\n",
    "- si un des nonbre est égal à 6 retirer un tirage:  enlever un dé\n",
    "- si le nb de tirage restant est nul  mettre `\"Perdu\"` et arreter le jeu\n",
    "- stocker ces nb dans une liste et si le 6 est tiré mettre `\"Gagné\"` a la place du 6"
   ]
  },
  {
   "cell_type": "markdown",
   "metadata": {
    "slideshow": {
     "slide_type": "slide"
    }
   },
   "source": [
    "# Corrections"
   ]
  },
  {
   "cell_type": "code",
   "execution_count": null,
   "metadata": {
    "slideshow": {
     "slide_type": "slide"
    }
   },
   "outputs": [],
   "source": [
    "Entier=1\n",
    "Flotant=2.0\n",
    "Entier,Flotant,Entier+Flotant"
   ]
  },
  {
   "cell_type": "code",
   "execution_count": null,
   "metadata": {
    "slideshow": {
     "slide_type": "subslide"
    }
   },
   "outputs": [],
   "source": [
    "Entier,Flotant=Flotant,Entier\n",
    "Entier,Flotant"
   ]
  },
  {
   "cell_type": "code",
   "execution_count": null,
   "metadata": {
    "slideshow": {
     "slide_type": "subslide"
    }
   },
   "outputs": [],
   "source": [
    "type(Entier)"
   ]
  },
  {
   "cell_type": "code",
   "execution_count": null,
   "metadata": {
    "slideshow": {
     "slide_type": "subslide"
    }
   },
   "outputs": [],
   "source": [
    "1+2,3*5"
   ]
  },
  {
   "cell_type": "code",
   "execution_count": null,
   "metadata": {
    "slideshow": {
     "slide_type": "slide"
    }
   },
   "outputs": [],
   "source": [
    "%pylab\n",
    "sin(pi/2),sqrt(2)"
   ]
  },
  {
   "cell_type": "code",
   "execution_count": null,
   "metadata": {
    "slideshow": {
     "slide_type": "subslide"
    }
   },
   "outputs": [],
   "source": [
    "import math"
   ]
  },
  {
   "cell_type": "code",
   "execution_count": null,
   "metadata": {
    "slideshow": {
     "slide_type": "subslide"
    }
   },
   "outputs": [],
   "source": [
    "math.sin(math.pi/2),math.sqrt(2)"
   ]
  },
  {
   "cell_type": "code",
   "execution_count": null,
   "metadata": {
    "slideshow": {
     "slide_type": "slide"
    }
   },
   "outputs": [],
   "source": [
    "a=\"bonjour\"\n",
    "b=\"//* Bonjour *//\""
   ]
  },
  {
   "cell_type": "code",
   "execution_count": null,
   "metadata": {
    "slideshow": {
     "slide_type": "subslide"
    }
   },
   "outputs": [],
   "source": [
    "print(a+b)"
   ]
  },
  {
   "cell_type": "code",
   "execution_count": null,
   "metadata": {
    "slideshow": {
     "slide_type": "subslide"
    }
   },
   "outputs": [],
   "source": [
    "chaine = \"'45'\"\n",
    "print(chaine)\n",
    "chaine += '\"45\"'\n",
    "print(chaine)\n",
    "chaine += \"\"\"\n",
    "fgfgqlibufliszqb\n",
    "\"\"\"\n",
    "print(chaine)\n",
    "chaine"
   ]
  },
  {
   "cell_type": "code",
   "execution_count": null,
   "metadata": {
    "slideshow": {
     "slide_type": "slide"
    }
   },
   "outputs": [],
   "source": [
    "l=[i+1 for i in range(10)]\n",
    "l"
   ]
  },
  {
   "cell_type": "code",
   "execution_count": null,
   "metadata": {
    "slideshow": {
     "slide_type": "subslide"
    }
   },
   "outputs": [],
   "source": [
    "l+l[-2::-1]"
   ]
  },
  {
   "cell_type": "code",
   "execution_count": null,
   "metadata": {
    "slideshow": {
     "slide_type": "subslide"
    }
   },
   "outputs": [],
   "source": [
    "lb=[1,2.0,'a']"
   ]
  },
  {
   "cell_type": "code",
   "execution_count": null,
   "metadata": {
    "slideshow": {
     "slide_type": "subslide"
    }
   },
   "outputs": [],
   "source": [
    "for elt in lb:\n",
    "    print(elt)"
   ]
  },
  {
   "cell_type": "code",
   "execution_count": null,
   "metadata": {
    "slideshow": {
     "slide_type": "slide"
    }
   },
   "outputs": [],
   "source": [
    "dico=dict()\n",
    "for i in range(97,97+26):\n",
    "    #print(i,chr(i))\n",
    "    dico[chr(i)]=i-96\n",
    "dico['g'] "
   ]
  },
  {
   "cell_type": "code",
   "execution_count": null,
   "metadata": {
    "slideshow": {
     "slide_type": "subslide"
    }
   },
   "outputs": [],
   "source": [
    "def fonction_histogramme(texte):\n",
    "    dico = {}\n",
    "    for c in texte:\n",
    "        if c in dico:\n",
    "            dico[c] = dico[c] + 1\n",
    "        else:\n",
    "            dico[c] = 1\n",
    "    return dico\n",
    "\n",
    "fonction_histogramme('eriuhgierlllllll')"
   ]
  },
  {
   "cell_type": "code",
   "execution_count": null,
   "metadata": {
    "slideshow": {
     "slide_type": "slide"
    }
   },
   "outputs": [],
   "source": [
    "import random\n",
    "tirage=[]\n",
    "for i in range(10):\n",
    "    n=random.randint(0,6)\n",
    "    if n!=6:\n",
    "        tirage.append(n)\n",
    "    else:\n",
    "        tirage.append('Perdu')\n",
    "        break\n",
    "tirage        "
   ]
  },
  {
   "cell_type": "code",
   "execution_count": null,
   "metadata": {
    "slideshow": {
     "slide_type": "subslide"
    }
   },
   "outputs": [],
   "source": [
    "tiragesList=[]\n",
    "ndes=4\n",
    "for i in range(10):\n",
    "    tirage=[random.randint(0,6) for j in range(ndes)]\n",
    "    if 6 in tirage:\n",
    "        if ndes==1:\n",
    "            tiragesList.append(\"Perdu\")\n",
    "            break\n",
    "        if ndes>0:\n",
    "            ndes+=-1\n",
    "            tiragesList.append(tirage)\n",
    "    else:\n",
    "        tiragesList.append(tirage)\n",
    "    if i ==9:  \n",
    "        tiragesList.append('Gagné')\n",
    "            \n",
    "tiragesList  "
   ]
  }
 ],
 "metadata": {
  "celltoolbar": "Diaporama",
  "kernelspec": {
   "display_name": "Python 3 (ipykernel)",
   "language": "python",
   "name": "python3"
  },
  "language_info": {
   "codemirror_mode": {
    "name": "ipython",
    "version": 3
   },
   "file_extension": ".py",
   "mimetype": "text/x-python",
   "name": "python",
   "nbconvert_exporter": "python",
   "pygments_lexer": "ipython3",
   "version": "3.9.12"
  }
 },
 "nbformat": 4,
 "nbformat_minor": 4
}
