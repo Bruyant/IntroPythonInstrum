{
 "cells": [
  {
   "cell_type": "markdown",
   "metadata": {
    "slideshow": {
     "slide_type": "slide"
    }
   },
   "source": [
    "# Exercices pratiques basiques"
   ]
  },
  {
   "cell_type": "markdown",
   "metadata": {
    "slideshow": {
     "slide_type": "slide"
    }
   },
   "source": [
    "# 1. Affectation\n",
    "- affecter l'entier 1 à Entier\n",
    "- affecter le flotant 2 à Flottant\n",
    "- echanger leur valeurs\n",
    "- utiliser la fonction `type()` pour connaitre leur type"
   ]
  },
  {
   "cell_type": "markdown",
   "metadata": {
    "slideshow": {
     "slide_type": "slide"
    }
   },
   "source": [
    "# 2. Calculs simples\n",
    "- Faire une addition, une multiplication\n",
    "- Caculer $\\sin(\\pi/2)$, $\\cos(\\pi/4)$, $\\sqrt2$\n",
    "- Calculer $50*(10^{\\frac{alpha}{20}} - 1 )$ : le resultat est 2.962 pour alpha=0.5 db/m\n"
   ]
  },
  {
   "cell_type": "markdown",
   "metadata": {
    "slideshow": {
     "slide_type": "slide"
    }
   },
   "source": [
    "# 3. Chaines de caratères\n",
    "- Affecter la chaine Bonjour à la variable a\n",
    "- Affecter la chaine /* Bonjour */ à la variable b\n",
    "- Concatener ces 2 chaines\n",
    "- Utiliser print pour les afficher\n",
    "- Crée des chaines avec des ' ou des \" a l'interieur et aussi des chaines sur plusieur lignes\n",
    "- Les afficher avec et sans les codes \\n"
   ]
  },
  {
   "cell_type": "markdown",
   "metadata": {},
   "source": [
    "# 4. Les listes\n",
    "- crée une liste des entiers de 1 a 10\n",
    "- crée une liste des entiers de 1 a 10 puis de 10 a zero\n",
    "- crée un liste d'objets de différents types\n",
    "- iterer sur cette liste pour en afficher le contenu\n"
   ]
  },
  {
   "cell_type": "markdown",
   "metadata": {},
   "source": [
    "# 5. Les dictionnaires\n",
    "- trouve le rang d'un caractere au hazard\n",
    "- crée un dictionnaire avec le rang de chaque caractere: a : 2, b : 2, etc jusque z\n",
    "- utiliser un dictionaire pour compter les occurences de chaque caractere d'une chaine"
   ]
  },
  {
   "cell_type": "markdown",
   "metadata": {
    "slideshow": {
     "slide_type": "slide"
    }
   },
   "source": [
    "# 6. Les boucles et tests\n",
    "- cree un boucle qui tire 10 Fois 3 nombres aléatoire entre 0 et 6 : tirer 3 dès\n",
    "- si un des nonbre est égal à 6 retirer un tirage:  enlever un dé\n",
    "- si le nb de tirage restant est nul  mettre `\"Perdu\"` et arreter le jeu\n",
    "- stocker ces nb dans une liste et si le 6 est tiré mettre `\"Gagné\"` a la place du 6"
   ]
  },
  {
   "cell_type": "markdown",
   "metadata": {
    "slideshow": {
     "slide_type": "slide"
    }
   },
   "source": [
    "# Corrections"
   ]
  },
  {
   "cell_type": "code",
   "execution_count": 1,
   "metadata": {
    "slideshow": {
     "slide_type": "slide"
    }
   },
   "outputs": [
    {
     "data": {
      "text/plain": [
       "(1, 2.0, 3.0)"
      ]
     },
     "execution_count": 1,
     "metadata": {},
     "output_type": "execute_result"
    }
   ],
   "source": [
    "Entier=1\n",
    "Flotant=2.0\n",
    "Entier,Flotant,Entier+Flotant"
   ]
  },
  {
   "cell_type": "code",
   "execution_count": 2,
   "metadata": {
    "slideshow": {
     "slide_type": "subslide"
    }
   },
   "outputs": [
    {
     "data": {
      "text/plain": [
       "(2.0, 1)"
      ]
     },
     "execution_count": 2,
     "metadata": {},
     "output_type": "execute_result"
    }
   ],
   "source": [
    "Entier,Flotant=Flotant,Entier\n",
    "Entier,Flotant"
   ]
  },
  {
   "cell_type": "code",
   "execution_count": 3,
   "metadata": {
    "slideshow": {
     "slide_type": "subslide"
    }
   },
   "outputs": [
    {
     "data": {
      "text/plain": [
       "float"
      ]
     },
     "execution_count": 3,
     "metadata": {},
     "output_type": "execute_result"
    }
   ],
   "source": [
    "type(Entier)"
   ]
  },
  {
   "cell_type": "code",
   "execution_count": 4,
   "metadata": {
    "slideshow": {
     "slide_type": "subslide"
    }
   },
   "outputs": [
    {
     "data": {
      "text/plain": [
       "(3, 15)"
      ]
     },
     "execution_count": 4,
     "metadata": {},
     "output_type": "execute_result"
    }
   ],
   "source": [
    "1+2,3*5"
   ]
  },
  {
   "cell_type": "code",
   "execution_count": 5,
   "metadata": {
    "slideshow": {
     "slide_type": "slide"
    }
   },
   "outputs": [
    {
     "name": "stdout",
     "output_type": "stream",
     "text": [
      "Using matplotlib backend: Qt5Agg\n",
      "Populating the interactive namespace from numpy and matplotlib\n"
     ]
    },
    {
     "data": {
      "text/plain": [
       "(1.0, 1.4142135623730951)"
      ]
     },
     "execution_count": 5,
     "metadata": {},
     "output_type": "execute_result"
    }
   ],
   "source": [
    "%pylab\n",
    "sin(pi/2),sqrt(2)"
   ]
  },
  {
   "cell_type": "code",
   "execution_count": 6,
   "metadata": {
    "slideshow": {
     "slide_type": "subslide"
    }
   },
   "outputs": [],
   "source": [
    "import math"
   ]
  },
  {
   "cell_type": "code",
   "execution_count": 7,
   "metadata": {
    "slideshow": {
     "slide_type": "subslide"
    }
   },
   "outputs": [
    {
     "data": {
      "text/plain": [
       "(1.0, 1.4142135623730951)"
      ]
     },
     "execution_count": 7,
     "metadata": {},
     "output_type": "execute_result"
    }
   ],
   "source": [
    "math.sin(math.pi/2),math.sqrt(2)"
   ]
  },
  {
   "cell_type": "code",
   "execution_count": 8,
   "metadata": {
    "slideshow": {
     "slide_type": "slide"
    }
   },
   "outputs": [],
   "source": [
    "a=\"bonjour\"\n",
    "b=\"//* Bonjour *//\""
   ]
  },
  {
   "cell_type": "code",
   "execution_count": 9,
   "metadata": {
    "slideshow": {
     "slide_type": "subslide"
    }
   },
   "outputs": [
    {
     "name": "stdout",
     "output_type": "stream",
     "text": [
      "bonjour//* Bonjour *//\n"
     ]
    }
   ],
   "source": [
    "print(a+b)"
   ]
  },
  {
   "cell_type": "code",
   "execution_count": 10,
   "metadata": {
    "slideshow": {
     "slide_type": "subslide"
    }
   },
   "outputs": [
    {
     "name": "stdout",
     "output_type": "stream",
     "text": [
      "'45'\n",
      "'45'\"45\"\n",
      "'45'\"45\"\n",
      "fgfgqlibufliszqb\n",
      "\n"
     ]
    },
    {
     "data": {
      "text/plain": [
       "'\\'45\\'\"45\"\\nfgfgqlibufliszqb\\n'"
      ]
     },
     "execution_count": 10,
     "metadata": {},
     "output_type": "execute_result"
    }
   ],
   "source": [
    "chaine = \"'45'\"\n",
    "print(chaine)\n",
    "chaine += '\"45\"'\n",
    "print(chaine)\n",
    "chaine += \"\"\"\n",
    "fgfgqlibufliszqb\n",
    "\"\"\"\n",
    "print(chaine)\n",
    "chaine"
   ]
  },
  {
   "cell_type": "code",
   "execution_count": 11,
   "metadata": {
    "slideshow": {
     "slide_type": "slide"
    }
   },
   "outputs": [
    {
     "data": {
      "text/plain": [
       "[1, 2, 3, 4, 5, 6, 7, 8, 9, 10]"
      ]
     },
     "execution_count": 11,
     "metadata": {},
     "output_type": "execute_result"
    }
   ],
   "source": [
    "l=[i+1 for i in range(10)]\n",
    "l"
   ]
  },
  {
   "cell_type": "code",
   "execution_count": 12,
   "metadata": {
    "slideshow": {
     "slide_type": "subslide"
    }
   },
   "outputs": [
    {
     "data": {
      "text/plain": [
       "[1, 2, 3, 4, 5, 6, 7, 8, 9, 10, 9, 8, 7, 6, 5, 4, 3, 2, 1]"
      ]
     },
     "execution_count": 12,
     "metadata": {},
     "output_type": "execute_result"
    }
   ],
   "source": [
    "l+l[-2::-1]"
   ]
  },
  {
   "cell_type": "code",
   "execution_count": 13,
   "metadata": {
    "slideshow": {
     "slide_type": "subslide"
    }
   },
   "outputs": [],
   "source": [
    "lb=[1,2.0,'a']"
   ]
  },
  {
   "cell_type": "code",
   "execution_count": 14,
   "metadata": {
    "slideshow": {
     "slide_type": "subslide"
    }
   },
   "outputs": [
    {
     "name": "stdout",
     "output_type": "stream",
     "text": [
      "1\n",
      "2.0\n",
      "a\n"
     ]
    }
   ],
   "source": [
    "for elt in lb:\n",
    "    print(elt)"
   ]
  },
  {
   "cell_type": "code",
   "execution_count": 15,
   "metadata": {
    "slideshow": {
     "slide_type": "slide"
    }
   },
   "outputs": [
    {
     "name": "stdout",
     "output_type": "stream",
     "text": [
      "97 a\n",
      "98 b\n",
      "99 c\n",
      "100 d\n",
      "101 e\n",
      "102 f\n",
      "103 g\n",
      "104 h\n",
      "105 i\n",
      "106 j\n",
      "107 k\n",
      "108 l\n",
      "109 m\n",
      "110 n\n",
      "111 o\n",
      "112 p\n",
      "113 q\n",
      "114 r\n",
      "115 s\n",
      "116 t\n",
      "117 u\n",
      "118 v\n",
      "119 w\n",
      "120 x\n",
      "121 y\n",
      "122 z\n"
     ]
    },
    {
     "data": {
      "text/plain": [
       "{'a': 1,\n",
       " 'b': 2,\n",
       " 'c': 3,\n",
       " 'd': 4,\n",
       " 'e': 5,\n",
       " 'f': 6,\n",
       " 'g': 7,\n",
       " 'h': 8,\n",
       " 'i': 9,\n",
       " 'j': 10,\n",
       " 'k': 11,\n",
       " 'l': 12,\n",
       " 'm': 13,\n",
       " 'n': 14,\n",
       " 'o': 15,\n",
       " 'p': 16,\n",
       " 'q': 17,\n",
       " 'r': 18,\n",
       " 's': 19,\n",
       " 't': 20,\n",
       " 'u': 21,\n",
       " 'v': 22,\n",
       " 'w': 23,\n",
       " 'x': 24,\n",
       " 'y': 25,\n",
       " 'z': 26}"
      ]
     },
     "execution_count": 15,
     "metadata": {},
     "output_type": "execute_result"
    }
   ],
   "source": [
    "dico=dict()\n",
    "for i in range(97,97+26):\n",
    "    print(i,chr(i))\n",
    "    dico[chr(i)]=i-96\n",
    "dico    "
   ]
  },
  {
   "cell_type": "code",
   "execution_count": 16,
   "metadata": {
    "slideshow": {
     "slide_type": "subslide"
    }
   },
   "outputs": [
    {
     "data": {
      "text/plain": [
       "{'e': 2, 'r': 2, 'i': 2, 'u': 1, 'h': 1, 'g': 1, 'l': 7}"
      ]
     },
     "execution_count": 16,
     "metadata": {},
     "output_type": "execute_result"
    }
   ],
   "source": [
    "def fonction_histogramme(texte):\n",
    "    dico = {}\n",
    "    for c in texte:\n",
    "        if c in dico:\n",
    "            dico[c] = dico[c] + 1\n",
    "        else:\n",
    "            dico[c] = 1\n",
    "    return dico\n",
    "\n",
    "fonction_histogramme('eriuhgierlllllll')"
   ]
  },
  {
   "cell_type": "code",
   "execution_count": 17,
   "metadata": {
    "slideshow": {
     "slide_type": "slide"
    }
   },
   "outputs": [
    {
     "data": {
      "text/plain": [
       "[1, 2, 4, 3, 'Perdu']"
      ]
     },
     "execution_count": 17,
     "metadata": {},
     "output_type": "execute_result"
    }
   ],
   "source": [
    "import random\n",
    "tirage=[]\n",
    "for i in range(10):\n",
    "    n=random.randint(0,6)\n",
    "    if n!=6:\n",
    "        tirage.append(n)\n",
    "    else:\n",
    "        tirage.append('Perdu')\n",
    "        break\n",
    "tirage        "
   ]
  },
  {
   "cell_type": "code",
   "execution_count": 18,
   "metadata": {
    "slideshow": {
     "slide_type": "subslide"
    }
   },
   "outputs": [
    {
     "data": {
      "text/plain": [
       "[[2, 3, 3, 6], [5, 2, 1], [6, 0, 4], [6, 1], [1], 'Perdu']"
      ]
     },
     "execution_count": 18,
     "metadata": {},
     "output_type": "execute_result"
    }
   ],
   "source": [
    "tiragesList=[]\n",
    "ndes=4\n",
    "for i in range(10):\n",
    "    tirage=[random.randint(0,6) for j in range(ndes)]\n",
    "    if 6 in tirage:\n",
    "        if ndes==1:\n",
    "            tiragesList.append(\"Perdu\")\n",
    "            break\n",
    "        if ndes>0:\n",
    "            ndes+=-1\n",
    "            tiragesList.append(tirage)\n",
    "    else:\n",
    "        tiragesList.append(tirage)\n",
    "    if i ==9:  \n",
    "        tiragesList.append('Gagné')\n",
    "            \n",
    "tiragesList  "
   ]
  }
 ],
 "metadata": {
  "celltoolbar": "Diaporama",
  "kernelspec": {
   "display_name": "Python 3",
   "language": "python",
   "name": "python3"
  },
  "language_info": {
   "codemirror_mode": {
    "name": "ipython",
    "version": 3
   },
   "file_extension": ".py",
   "mimetype": "text/x-python",
   "name": "python",
   "nbconvert_exporter": "python",
   "pygments_lexer": "ipython3",
   "version": "3.8.3"
  }
 },
 "nbformat": 4,
 "nbformat_minor": 4
}
