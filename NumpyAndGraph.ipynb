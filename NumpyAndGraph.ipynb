{
 "cells": [
  {
   "cell_type": "markdown",
   "id": "special-bridges",
   "metadata": {
    "slideshow": {
     "slide_type": "slide"
    }
   },
   "source": [
    "# Execrcices numpy\n",
    "- importer numpy\n",
    "- crée un taleau 3x3 de zeros, de 1 , ...\n",
    "- crée un tableau des nb de 1 à 1000\n",
    "- afficher les 10 premier et les 10 derniers\n",
    "- en afficher un sur 33"
   ]
  },
  {
   "cell_type": "code",
   "execution_count": 1,
   "id": "annoying-guarantee",
   "metadata": {
    "slideshow": {
     "slide_type": "slide"
    }
   },
   "outputs": [
    {
     "data": {
      "text/plain": [
       "(array([[0., 0., 0.],\n",
       "        [0., 0., 0.],\n",
       "        [0., 0., 0.]]),\n",
       " array([[1., 1., 1.],\n",
       "        [1., 1., 1.],\n",
       "        [1., 1., 1.]]),\n",
       " array([[16.,  1.,  1.],\n",
       "        [ 1., 16.,  1.],\n",
       "        [ 1.,  1., 16.]]))"
      ]
     },
     "execution_count": 1,
     "metadata": {},
     "output_type": "execute_result"
    }
   ],
   "source": [
    "import numpy as np\n",
    "t= np.zeros((3,3))\n",
    "t, t+1, (t+1+np.identity(3))**4"
   ]
  },
  {
   "cell_type": "markdown",
   "id": "chinese-writing",
   "metadata": {
    "slideshow": {
     "slide_type": "slide"
    }
   },
   "source": [
    "# Les tableaux booleens\n",
    "- c'est un tableau de `True` ou `False`\n",
    "- peut etre utilisé en produit ou en somme avec un tableau numerique\n",
    "- Créer un tableau tel que:\n",
    "    $signal= sin(t) si t>0$"
   ]
  },
  {
   "cell_type": "code",
   "execution_count": 50,
   "id": "vietnamese-heavy",
   "metadata": {
    "slideshow": {
     "slide_type": "slide"
    }
   },
   "outputs": [
    {
     "data": {
      "text/plain": [
       "array([-5.0e-05,  1.5e-04,  3.5e-04,  5.5e-04,  7.5e-04,  9.5e-04])"
      ]
     },
     "execution_count": 50,
     "metadata": {},
     "output_type": "execute_result"
    }
   ],
   "source": [
    "Fs=5E3\n",
    "Fexc=20E3\n",
    "Tex=1/Fexc\n",
    "t=np.arange(-Tex,21*Tex,1/Fs)\n",
    "t"
   ]
  },
  {
   "cell_type": "code",
   "execution_count": 51,
   "id": "supported-ecology",
   "metadata": {},
   "outputs": [
    {
     "data": {
      "text/plain": [
       "[<matplotlib.lines.Line2D at 0x2e1af504b80>]"
      ]
     },
     "execution_count": 51,
     "metadata": {},
     "output_type": "execute_result"
    },
    {
     "data": {
      "image/png": "[encoded data removed]",
      "text/plain": [
       "<Figure size 432x288 with 1 Axes>"
      ]
     },
     "metadata": {
      "needs_background": "light"
     },
     "output_type": "display_data"
    }
   ],
   "source": [
    "import matplotlib.pylab as plt\n",
    "s=(t<19*Tex)*(t>0)*np.sin(2*np.pi*Fexc*t)\n",
    "plt.plot(t,s)"
   ]
  },
  {
   "cell_type": "code",
   "execution_count": 56,
   "id": "7eaa4fb5-0c52-4d9b-bf3c-d59537d9a4d5",
   "metadata": {},
   "outputs": [],
   "source": [
    "np.savetxt('toto.csv',np.stack((t,s)),delimiter=',')"
   ]
  },
  {
   "cell_type": "code",
   "execution_count": 57,
   "id": "216cbaa3-d38a-4019-a78c-a6bb73e58d2f",
   "metadata": {},
   "outputs": [
    {
     "data": {
      "text/plain": [
       "array([[-5.00000000e-05,  1.50000000e-04,  3.50000000e-04,\n",
       "         5.50000000e-04,  7.50000000e-04,  9.50000000e-04],\n",
       "       [-0.00000000e+00,  2.81792560e-15, -1.71450552e-15,\n",
       "         4.41120440e-15,  3.43148696e-15,  0.00000000e+00]])"
      ]
     },
     "execution_count": 57,
     "metadata": {},
     "output_type": "execute_result"
    }
   ],
   "source": [
    "np.stack((t,s))"
   ]
  },
  {
   "cell_type": "code",
   "execution_count": 4,
   "id": "separated-spoke",
   "metadata": {},
   "outputs": [
    {
     "data": {
      "text/plain": [
       "(array([0, 1, 2, 3, 4, 5, 6, 7, 8, 9]),\n",
       " array([990, 991, 992, 993, 994, 995, 996, 997, 998, 999]),\n",
       " array([  0,  33,  66,  99, 132, 165, 198, 231, 264, 297, 330, 363, 396,\n",
       "        429, 462, 495, 528, 561, 594, 627, 660, 693, 726, 759, 792, 825,\n",
       "        858, 891, 924, 957, 990]))"
      ]
     },
     "execution_count": 4,
     "metadata": {},
     "output_type": "execute_result"
    }
   ],
   "source": [
    "n1000=np.arange(1000)\n",
    "n1000[:10],n1000[-10:],n1000[::33],"
   ]
  },
  {
   "cell_type": "code",
   "execution_count": 23,
   "id": "greek-fleet",
   "metadata": {},
   "outputs": [
    {
     "data": {
      "text/plain": [
       "15"
      ]
     },
     "execution_count": 23,
     "metadata": {},
     "output_type": "execute_result"
    }
   ],
   "source": [
    "def func(toto,tutu=10,**kwords):\n",
    "    return toto,tutu\n",
    "\n",
    "\n",
    "a,b=func(1,tutu=15)\n",
    "b"
   ]
  },
  {
   "cell_type": "code",
   "execution_count": 7,
   "id": "naval-flower",
   "metadata": {},
   "outputs": [
    {
     "name": "stdout",
     "output_type": "stream",
     "text": [
      "10\n"
     ]
    }
   ],
   "source": [
    "params={'var1':10,\n",
    "    'var2':20}\n",
    "\n",
    "\n",
    "def f1(params):\n",
    "    print(params['var1'])\n",
    "    \n",
    "\n",
    "f1(params)    "
   ]
  },
  {
   "cell_type": "markdown",
   "id": "operating-emphasis",
   "metadata": {},
   "source": [
    "# Tracé de graphique\n",
    "- importer maplotlib\n",
    "-\n"
   ]
  },
  {
   "cell_type": "code",
   "execution_count": 24,
   "id": "beginning-snowboard",
   "metadata": {},
   "outputs": [
    {
     "name": "stdout",
     "output_type": "stream",
     "text": [
      "Populating the interactive namespace from numpy and matplotlib\n"
     ]
    },
    {
     "name": "stderr",
     "output_type": "stream",
     "text": [
      "C:\\ProgramData\\Anaconda3\\lib\\site-packages\\IPython\\core\\magics\\pylab.py:159: UserWarning: pylab import has clobbered these variables: ['plt']\n",
      "`%matplotlib` prevents importing * from pylab and numpy\n",
      "  warn(\"pylab import has clobbered these variables: %s\"  % clobbered +\n"
     ]
    }
   ],
   "source": [
    "%pylab inline"
   ]
  },
  {
   "cell_type": "code",
   "execution_count": 25,
   "id": "fifty-parliament",
   "metadata": {},
   "outputs": [
    {
     "data": {
      "text/plain": [
       "[<matplotlib.lines.Line2D at 0x2e1ae2f2b80>]"
      ]
     },
     "execution_count": 25,
     "metadata": {},
     "output_type": "execute_result"
    },
    {
     "data": {
      "image/png": "[encoded data removed]",
      "text/plain": [
       "<Figure size 432x288 with 1 Axes>"
      ]
     },
     "metadata": {
      "needs_background": "light"
     },
     "output_type": "display_data"
    }
   ],
   "source": [
    "plot(3,'*')"
   ]
  },
  {
   "cell_type": "code",
   "execution_count": null,
   "id": "structural-desperate",
   "metadata": {},
   "outputs": [],
   "source": []
  },
  {
   "cell_type": "code",
   "execution_count": null,
   "id": "2f57e1f2-49d5-46f6-9a70-1eeef7cdc610",
   "metadata": {},
   "outputs": [],
   "source": []
  },
  {
   "cell_type": "code",
   "execution_count": null,
   "id": "fd1c37d1-841e-4dfd-9989-16e61c467eb9",
   "metadata": {},
   "outputs": [],
   "source": []
  }
 ],
 "metadata": {
  "celltoolbar": "Diaporama",
  "kernelspec": {
   "display_name": "Python 3 (ipykernel)",
   "language": "python",
   "name": "python3"
  },
  "language_info": {
   "codemirror_mode": {
    "name": "ipython",
    "version": 3
   },
   "file_extension": ".py",
   "mimetype": "text/x-python",
   "name": "python",
   "nbconvert_exporter": "python",
   "pygments_lexer": "ipython3",
   "version": "3.8.12"
  }
 },
 "nbformat": 4,
 "nbformat_minor": 5
}
